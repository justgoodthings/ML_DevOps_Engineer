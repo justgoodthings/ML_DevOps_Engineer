{
 "cells": [
  {
   "cell_type": "markdown",
   "metadata": {},
   "source": [
    "# ML DevOps Engineer\n",
    "## Course 1 - Writing Clean Code\n",
    "**5 Key Areas**\n",
    "1. Writing clean and modular code\n",
    "2. Refactoring code\n",
    "3. Optimizing code to be more efficient\n",
    "4. Writing documentation\n",
    "5. Following [PEP8](https://www.python.org/dev/peps/pep-0008/ \"PEP8 Guide\") & Linting \n",
    "---\n",
    "---\n",
    "### Best Coding Practices - Meaningful Names"
   ]
  },
  {
   "cell_type": "markdown",
   "metadata": {},
   "source": [
    "#### Be descriptive and imply type:\n",
    "For `booleans`, you can prefix with `is_` or `has_` to make it clear it is a condition.\n",
    "<BR>You can also use parts of speech to imply types, like using `verbs for functions` and `nouns for variables`.\n"
   ]
  },
  {
   "cell_type": "code",
   "execution_count": 5,
   "metadata": {},
   "outputs": [],
   "source": [
    "is_new = True\n",
    "has_child = False\n",
    "age = 16\n",
    "def multiply(x1, x2):\n",
    "    return x1 * x2"
   ]
  },
  {
   "cell_type": "markdown",
   "metadata": {},
   "source": [
    "---\n",
    "#### Be consistent but clearly differentiate:\n",
    "👍🏻 `age_list` and `age` is easier to differentiate than<br>👎🏻 `ages` and `age`.\n",
    "\n",
    "---\n",
    "#### Avoid abbreviations and single letters:\n",
    "You can determine when to make these exceptions based on the audience for your code. If you work with other data scientists, certain variables may be common knowledge. While if you work with full stack engineers, it might be necessary to provide more descriptive names in these cases as well. (Exceptions include counters and common math variables.)"
   ]
  },
  {
   "cell_type": "code",
   "execution_count": 6,
   "metadata": {},
   "outputs": [],
   "source": [
    "# Bad Example\n",
    "s = [88, 92, 77, 65, 80.5]  # student test scores\n",
    "\n",
    "# Better\n",
    "test_scores = [88, 92, 77, 65, 80.5]    "
   ]
  },
  {
   "cell_type": "markdown",
   "metadata": {},
   "source": [
    "#### BUT Long names aren't the same as descriptive names:\n",
    "You should be descriptive, but only with relevant information.<BR>\n",
    "For example, good function names describe what they do well without including details about implementation or highly specific uses.<BR>\n",
    "Try testing how effective your names are by asking a fellow programmer to guess the purpose of a function or variable based on its name, without looking at your code.<BR>\n",
    "Coming up with meaningful names often requires effort to get it right.\n"
   ]
  },
  {
   "cell_type": "code",
   "execution_count": 11,
   "metadata": {},
   "outputs": [],
   "source": [
    "# Bad Example\n",
    "def count_unique_values_of_names_list_with_set(names_list):\n",
    "    return len(set(names_list))\n",
    "\n",
    "# Better\n",
    "def count_unique_values(arr):\n",
    "    return len(set(arr))"
   ]
  },
  {
   "cell_type": "markdown",
   "metadata": {},
   "source": [
    "---\n",
    "#### Use build in functions:\n",
    "Build in functions are optimized, often computationaly faster and easier to read."
   ]
  },
  {
   "cell_type": "code",
   "execution_count": 10,
   "metadata": {},
   "outputs": [
    {
     "name": "stdout",
     "output_type": "stream",
     "text": [
      "80.5\n",
      "80.5\n"
     ]
    }
   ],
   "source": [
    "# Bad Example\n",
    "print(sum(s)/len(s))        # print mean of test scores\n",
    "\n",
    "# Better\n",
    "import numpy as np\n",
    "print(np.mean(test_scores))"
   ]
  },
  {
   "cell_type": "markdown",
   "metadata": {},
   "source": [
    "---\n",
    "#### Use whitespace properly:\n",
    "* Organize your code with consistent indentation: the standard is to use four spaces for each indent. You can make this a default in your text editor.\n",
    "* Separate sections with blank lines to keep your code well organized and readable.\n",
    "* Try to limit your lines to around `79 characters`, which is the guideline given in the [PEP 8](https://www.python.org/dev/peps/pep-0008/?#code-lay-out \"PEP8 Code Layout Style Guide\") style guide.\n",
    "  - In many good text editors, there is a setting to display a subtle line that indicates where the `79 character limit` is."
   ]
  },
  {
   "cell_type": "code",
   "execution_count": 12,
   "metadata": {},
   "outputs": [],
   "source": [
    "# ToDo: Add some examples for good indentation, e.g., functions with many parameters"
   ]
  },
  {
   "cell_type": "markdown",
   "metadata": {},
   "source": [
    "---\n",
    "---\n",
    "### Best Coding Practices - Modular Code\n",
    "#### DRY (Don't Repeat Yourself):\n",
    "Don't repeat yourself! Modularization allows you to reuse parts of your code.<br>\n",
    "Generalize and consolidate repeated code in functions or loops.\n",
    "#### Abstract out logic to improve readability:\n",
    "Abstracting out code into a function not only makes it less repetitive, but also improves readability with descriptive function names. Although your code can become more readable when you abstract out logic into functions, it is possible to over-engineer this and have way too many modules, so use your judgement."
   ]
  },
  {
   "cell_type": "code",
   "execution_count": 14,
   "metadata": {},
   "outputs": [
    {
     "name": "stdout",
     "output_type": "stream",
     "text": [
      "54.2\n",
      "59.2\n",
      "49.2\n",
      "54.2\n",
      "59.2\n",
      "65.76626113696466\n"
     ]
    }
   ],
   "source": [
    "# Bad Example\n",
    "v = [12, 32, 93, 24, 85]\n",
    "s1 = []\n",
    "for x in v:\n",
    "    s1.append(x + 5)\n",
    "print(sum(s1)/len(s1))\n",
    "\n",
    "s2 = []\n",
    "for x in v:\n",
    "    s2.append(x + 10)\n",
    "print(sum(s2)/len(s2))\n",
    "\n",
    "\n",
    "# Better\n",
    "import math\n",
    "import numpy as np\n",
    "\n",
    "def flat_curve(arr, n):\n",
    "    return [i + n for i in arr]\n",
    "\n",
    "def square_root_curve(arr):\n",
    "    return [math.sqrt(i) * 10 for i in arr]\n",
    "\n",
    "test_scores = [12, 32, 93, 24, 85]\n",
    "curved_5 = flat_curve(test_scores, 5)\n",
    "curved_10 = flat_curve(test_scores, 10)\n",
    "curved_sqrt = square_root_curve(test_scores)\n",
    "\n",
    "for score_list in test_scores, curved_5, curved_10, curved_sqrt:\n",
    "    print(np.mean(score_list))"
   ]
  },
  {
   "cell_type": "markdown",
   "metadata": {},
   "source": [
    "---\n",
    "\n",
    "#### Minimize the number of entities (functions, classes, modules, etc.)\n",
    "There are trade-offs to having function calls instead of inline logic. If you have broken up your code into an unnecessary amount of functions and modules, you'll have to jump around everywhere if you want to view the implementation details for something that may be too small to be worth it. Creating more modules doesn't necessarily result in effective modularization."
   ]
  },
  {
   "cell_type": "markdown",
   "metadata": {},
   "source": [
    "---\n",
    "#### Functions should do one thing\n",
    "Each function you write should be focused on doing one thing. If a function is doing multiple things, it becomes more difficult to generalize and reuse. Generally, if there's an \"and\" in your function name, consider refactoring."
   ]
  },
  {
   "cell_type": "markdown",
   "metadata": {},
   "source": [
    "---\n",
    "#### Arbitrary variable names can be more effective in certain functions\n",
    "Arbitrary variable names in general functions can actually make the code more readable.\n"
   ]
  },
  {
   "cell_type": "markdown",
   "metadata": {},
   "source": [
    "---\n",
    "#### Try to use fewer than three arguments per function\n",
    "Try to use no more than three arguments when possible. This is not a hard rule and there are times when it is more appropriate to use many parameters. But in many cases, it's more effective to use fewer arguments. Remember we are modularizing to simplify our code and make it more efficient. If your function has a lot of parameters, you may want to rethink how you are splitting this up."
   ]
  },
  {
   "cell_type": "markdown",
   "metadata": {},
   "source": []
  }
 ],
 "metadata": {
  "kernelspec": {
   "display_name": "Python 3.8.5 ('base')",
   "language": "python",
   "name": "python3"
  },
  "language_info": {
   "codemirror_mode": {
    "name": "ipython",
    "version": 3
   },
   "file_extension": ".py",
   "mimetype": "text/x-python",
   "name": "python",
   "nbconvert_exporter": "python",
   "pygments_lexer": "ipython3",
   "version": "3.8.5"
  },
  "orig_nbformat": 4,
  "vscode": {
   "interpreter": {
    "hash": "40d3a090f54c6569ab1632332b64b2c03c39dcf918b08424e98f38b5ae0af88f"
   }
  }
 },
 "nbformat": 4,
 "nbformat_minor": 2
}
